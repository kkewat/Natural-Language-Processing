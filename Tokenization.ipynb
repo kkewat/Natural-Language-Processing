{
  "nbformat": 4,
  "nbformat_minor": 0,
  "metadata": {
    "colab": {
      "provenance": []
    },
    "kernelspec": {
      "name": "python3",
      "display_name": "Python 3"
    },
    "language_info": {
      "name": "python"
    }
  },
  "cells": [
    {
      "cell_type": "code",
      "execution_count": 4,
      "metadata": {
        "colab": {
          "base_uri": "https://localhost:8080/"
        },
        "id": "1nc5pxyf7MSl",
        "outputId": "1d92d8ce-4850-40f0-d4b0-c07e23f2e8eb"
      },
      "outputs": [
        {
          "output_type": "stream",
          "name": "stderr",
          "text": [
            "[nltk_data] Downloading package punkt to /root/nltk_data...\n",
            "[nltk_data]   Unzipping tokenizers/punkt.zip.\n"
          ]
        },
        {
          "output_type": "execute_result",
          "data": {
            "text/plain": [
              "True"
            ]
          },
          "metadata": {},
          "execution_count": 4
        }
      ],
      "source": [
        "import nltk\n",
        "nltk.download('punkt')"
      ]
    },
    {
      "cell_type": "code",
      "source": [
        "#Writing the data on which we will apply tokenization\n",
        "data = \"Bitcoin, Ethereum, and other wide-scale cryptocurrency coins use blockchain to process and record transactions securely. This technology makes it possible to ensure transparency and protect the financial information and identity of crypto buyers and sellers.\"\n",
        "\n",
        "#Applying Line Tokenization\n",
        "tokens = nltk.tokenize.sent_tokenize(data)\n",
        "print(tokens)"
      ],
      "metadata": {
        "colab": {
          "base_uri": "https://localhost:8080/"
        },
        "id": "97uFEN2H8Bfx",
        "outputId": "6410d6c7-5889-4d71-ffab-46ddc5254ba0"
      },
      "execution_count": 5,
      "outputs": [
        {
          "output_type": "stream",
          "name": "stdout",
          "text": [
            "['Bitcoin, Ethereum, and other wide-scale cryptocurrency coins use blockchain to process and record transactions securely.', 'This technology makes it possible to ensure transparency and protect the financial information and identity of crypto buyers and sellers.']\n"
          ]
        }
      ]
    },
    {
      "cell_type": "code",
      "source": [
        "# Tokenizing Word\n",
        "\n",
        "tokens = nltk.tokenize.word_tokenize(data)\n",
        "print(tokens)"
      ],
      "metadata": {
        "colab": {
          "base_uri": "https://localhost:8080/"
        },
        "id": "QdblahbE9MkR",
        "outputId": "e38f8c12-583f-4870-b6f7-f70af1e25df1"
      },
      "execution_count": 6,
      "outputs": [
        {
          "output_type": "stream",
          "name": "stdout",
          "text": [
            "['Bitcoin', ',', 'Ethereum', ',', 'and', 'other', 'wide-scale', 'cryptocurrency', 'coins', 'use', 'blockchain', 'to', 'process', 'and', 'record', 'transactions', 'securely', '.', 'This', 'technology', 'makes', 'it', 'possible', 'to', 'ensure', 'transparency', 'and', 'protect', 'the', 'financial', 'information', 'and', 'identity', 'of', 'crypto', 'buyers', 'and', 'sellers', '.']\n"
          ]
        }
      ]
    }
  ]
}