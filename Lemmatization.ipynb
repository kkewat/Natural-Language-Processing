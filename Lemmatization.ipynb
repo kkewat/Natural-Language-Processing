{
  "nbformat": 4,
  "nbformat_minor": 0,
  "metadata": {
    "colab": {
      "provenance": [],
      "authorship_tag": "ABX9TyPTQQBKMPxDQhNb87qhrtRo",
      "include_colab_link": true
    },
    "kernelspec": {
      "name": "python3",
      "display_name": "Python 3"
    },
    "language_info": {
      "name": "python"
    }
  },
  "cells": [
    {
      "cell_type": "markdown",
      "metadata": {
        "id": "view-in-github",
        "colab_type": "text"
      },
      "source": [
        "<a href=\"https://colab.research.google.com/github/kkewat/Natural-Language-Processing/blob/main/Lemmatization.ipynb\" target=\"_parent\"><img src=\"https://colab.research.google.com/assets/colab-badge.svg\" alt=\"Open In Colab\"/></a>"
      ]
    },
    {
      "cell_type": "code",
      "execution_count": 2,
      "metadata": {
        "colab": {
          "base_uri": "https://localhost:8080/"
        },
        "id": "TMRas72PBf81",
        "outputId": "ba97ac22-00e9-4975-c95d-1627c2fe75aa"
      },
      "outputs": [
        {
          "output_type": "stream",
          "name": "stderr",
          "text": [
            "[nltk_data] Downloading package wordnet to /root/nltk_data...\n"
          ]
        },
        {
          "output_type": "execute_result",
          "data": {
            "text/plain": [
              "True"
            ]
          },
          "metadata": {},
          "execution_count": 2
        }
      ],
      "source": [
        "import nltk\n",
        "from nltk.stem import WordNetLemmatizer\n",
        "nltk.download('wordnet')"
      ]
    },
    {
      "cell_type": "code",
      "source": [
        "#Creating a Lemmatizer Object\n",
        "lemmati = WordNetLemmatizer()"
      ],
      "metadata": {
        "id": "yGuVYlMTBzUu"
      },
      "execution_count": 3,
      "outputs": []
    },
    {
      "cell_type": "code",
      "source": [
        "# Example words for lemmatization\n",
        "words = [\"running\", \"swimming\", \"jumped\"]"
      ],
      "metadata": {
        "id": "MhK4AmACCCXZ"
      },
      "execution_count": 4,
      "outputs": []
    },
    {
      "cell_type": "code",
      "source": [
        "# Lemmatize verbs by specifying POS tag 'v' for verb\n",
        "for i in words:\n",
        "  lemmatized_word = lemmati.lemmatize(i,pos='v')\n",
        "  print(i,\" : \",lemmatized_word)"
      ],
      "metadata": {
        "colab": {
          "base_uri": "https://localhost:8080/"
        },
        "id": "Hq7cBb1ZCIt6",
        "outputId": "4318b9b1-0087-48bf-ef8c-6f152bf30e3c"
      },
      "execution_count": 7,
      "outputs": [
        {
          "output_type": "stream",
          "name": "stdout",
          "text": [
            "running  :  run\n",
            "swimming  :  swim\n",
            "jumped  :  jump\n"
          ]
        }
      ]
    }
  ]
}