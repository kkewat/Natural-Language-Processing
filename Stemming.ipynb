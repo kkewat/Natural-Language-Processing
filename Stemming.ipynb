{
  "nbformat": 4,
  "nbformat_minor": 0,
  "metadata": {
    "colab": {
      "provenance": [],
      "authorship_tag": "ABX9TyODB5WDD4bHhnvboHQi4/61",
      "include_colab_link": true
    },
    "kernelspec": {
      "name": "python3",
      "display_name": "Python 3"
    },
    "language_info": {
      "name": "python"
    }
  },
  "cells": [
    {
      "cell_type": "markdown",
      "metadata": {
        "id": "view-in-github",
        "colab_type": "text"
      },
      "source": [
        "<a href=\"https://colab.research.google.com/github/kkewat/Natural-Language-Processing/blob/main/Stemming.ipynb\" target=\"_parent\"><img src=\"https://colab.research.google.com/assets/colab-badge.svg\" alt=\"Open In Colab\"/></a>"
      ]
    },
    {
      "cell_type": "code",
      "execution_count": 5,
      "metadata": {
        "id": "VdfXOFkd_RGv"
      },
      "outputs": [],
      "source": [
        "from nltk.stem import PorterStemmer"
      ]
    },
    {
      "cell_type": "code",
      "source": [
        "#initializing the stemming function\n",
        "Portstem = PorterStemmer()"
      ],
      "metadata": {
        "id": "cA7mdmgj_gg_"
      },
      "execution_count": 6,
      "outputs": []
    },
    {
      "cell_type": "code",
      "source": [
        "# Example words for stemming\n",
        "words = [\"running\", \"swimming\", \"jumped\"]"
      ],
      "metadata": {
        "id": "DlVlEcp5_rM2"
      },
      "execution_count": 7,
      "outputs": []
    },
    {
      "cell_type": "code",
      "source": [
        "for i in words:\n",
        "  stem_word = Portstem.stem(i)\n",
        "  print(i,' : ',stem_word)"
      ],
      "metadata": {
        "colab": {
          "base_uri": "https://localhost:8080/"
        },
        "id": "zLS1Jh8n_xiu",
        "outputId": "58e2ae37-6f84-477b-e7db-5528aa52de87"
      },
      "execution_count": 8,
      "outputs": [
        {
          "output_type": "stream",
          "name": "stdout",
          "text": [
            "running  :  run\n",
            "swimming  :  swim\n",
            "jumped  :  jump\n"
          ]
        }
      ]
    }
  ]
}